{
  "cells": [
    {
      "cell_type": "markdown",
      "metadata": {
        "id": "nOOPLCHF7hLB"
      },
      "source": [
        "**Task 07: Querying RDF(s)**"
      ]
    },
    {
      "cell_type": "code",
      "execution_count": 2,
      "metadata": {
        "colab": {
          "base_uri": "https://localhost:8080/"
        },
        "id": "Yl9npCt8n6m-",
        "outputId": "e353f7c0-4600-4f57-c8b8-7d425c5195a0"
      },
      "outputs": [
        {
          "output_type": "stream",
          "name": "stdout",
          "text": [
            "Looking in indexes: https://pypi.org/simple, https://us-python.pkg.dev/colab-wheels/public/simple/\n",
            "Collecting rdflib\n",
            "  Downloading rdflib-6.2.0-py3-none-any.whl (500 kB)\n",
            "\u001b[K     |████████████████████████████████| 500 kB 5.0 MB/s \n",
            "\u001b[?25hCollecting isodate\n",
            "  Downloading isodate-0.6.1-py2.py3-none-any.whl (41 kB)\n",
            "\u001b[K     |████████████████████████████████| 41 kB 347 kB/s \n",
            "\u001b[?25hRequirement already satisfied: setuptools in /usr/local/lib/python3.7/dist-packages (from rdflib) (57.4.0)\n",
            "Requirement already satisfied: importlib-metadata in /usr/local/lib/python3.7/dist-packages (from rdflib) (4.13.0)\n",
            "Requirement already satisfied: pyparsing in /usr/local/lib/python3.7/dist-packages (from rdflib) (3.0.9)\n",
            "Requirement already satisfied: zipp>=0.5 in /usr/local/lib/python3.7/dist-packages (from importlib-metadata->rdflib) (3.9.0)\n",
            "Requirement already satisfied: typing-extensions>=3.6.4 in /usr/local/lib/python3.7/dist-packages (from importlib-metadata->rdflib) (4.1.1)\n",
            "Requirement already satisfied: six in /usr/local/lib/python3.7/dist-packages (from isodate->rdflib) (1.15.0)\n",
            "Installing collected packages: isodate, rdflib\n",
            "Successfully installed isodate-0.6.1 rdflib-6.2.0\n"
          ]
        }
      ],
      "source": [
        "!pip install rdflib \n",
        "github_storage = \"https://raw.githubusercontent.com/FacultadInformatica-LinkedData/Curso2021-2022/master/Assignment4/course_materials\""
      ]
    },
    {
      "cell_type": "markdown",
      "metadata": {
        "id": "XY7aPc86Bqoo"
      },
      "source": [
        "Leemos el fichero RDF de la forma que lo hemos venido haciendo"
      ]
    },
    {
      "cell_type": "code",
      "execution_count": 3,
      "metadata": {
        "colab": {
          "base_uri": "https://localhost:8080/"
        },
        "id": "9ERh415on7kF",
        "outputId": "9be57795-324b-4693-aecb-3321804aa9be"
      },
      "outputs": [
        {
          "output_type": "execute_result",
          "data": {
            "text/plain": [
              "<Graph identifier=N91a67986bd904a52a019fe62308c4e94 (<class 'rdflib.graph.Graph'>)>"
            ]
          },
          "metadata": {},
          "execution_count": 3
        }
      ],
      "source": [
        "from rdflib import Graph, Namespace, Literal\n",
        "from rdflib.namespace import RDF, RDFS\n",
        "g = Graph()\n",
        "g.namespace_manager.bind('ns', Namespace(\"http://somewhere#\"), override=False)\n",
        "g.namespace_manager.bind('vcard', Namespace(\"http://www.w3.org/2001/vcard-rdf/3.0#\"), override=False)\n",
        "g.parse(github_storage+\"/rdf/example6.rdf\", format=\"xml\")"
      ]
    },
    {
      "cell_type": "markdown",
      "metadata": {
        "id": "qp1oe2Eddsvo"
      },
      "source": [
        "**TASK 7.1: List all subclasses of \"Person\" with RDFLib and SPARQL**"
      ]
    },
    {
      "cell_type": "markdown",
      "source": [
        "RDFLib\n"
      ],
      "metadata": {
        "id": "Fwnj5mYXth7d"
      }
    },
    {
      "cell_type": "code",
      "execution_count": 19,
      "metadata": {
        "colab": {
          "base_uri": "https://localhost:8080/"
        },
        "id": "tRcSWuMHOXBl",
        "outputId": "285b2861-259d-4995-ea92-b397783b2a21"
      },
      "outputs": [
        {
          "output_type": "stream",
          "name": "stdout",
          "text": [
            "http://somewhere#Researcher\n"
          ]
        }
      ],
      "source": [
        "ns= Namespace(\"http://somewhere#\")\n",
        "\n",
        "for s, p, o in g.triples((None, RDFS.subClassOf, ns.Person)):\n",
        "  print(s)"
      ]
    },
    {
      "cell_type": "markdown",
      "source": [
        "SPARQL"
      ],
      "metadata": {
        "id": "d6x_3D8jtqd7"
      }
    },
    {
      "cell_type": "code",
      "source": [
        "VCARD = Namespace(\"http://www.w3.org/2001/vcard-rdf/3.0#\")\n",
        "from rdflib.plugins.sparql import prepareQuery\n",
        "\n",
        "q1 = prepareQuery('''\n",
        "  SELECT \n",
        "    ?Subject\n",
        "  WHERE { \n",
        "    ?Subject rdfs:subClassOf ns:Person. \n",
        "  }\n",
        "  ''',\n",
        "  initNs = { \"rdfs\":RDFS , \"ns\":ns}\n",
        ")\n",
        "for r in g.query(q1):\n",
        "  print(r)"
      ],
      "metadata": {
        "id": "Io3adZkHtx38",
        "outputId": "5ff5b232-0359-4afa-ee3c-6ff6c8b95775",
        "colab": {
          "base_uri": "https://localhost:8080/"
        }
      },
      "execution_count": 20,
      "outputs": [
        {
          "output_type": "stream",
          "name": "stdout",
          "text": [
            "(rdflib.term.URIRef('http://somewhere#Researcher'),)\n"
          ]
        }
      ]
    },
    {
      "cell_type": "markdown",
      "metadata": {
        "id": "gM3DASkTQQ5Y"
      },
      "source": [
        "**TASK 7.2: List all individuals of \"Person\" with RDFLib and SPARQL (remember the subClasses)**\n"
      ]
    },
    {
      "cell_type": "markdown",
      "source": [
        "RDFLib"
      ],
      "metadata": {
        "id": "pFIFvV_xt3Q9"
      }
    },
    {
      "cell_type": "code",
      "execution_count": 18,
      "metadata": {
        "colab": {
          "base_uri": "https://localhost:8080/"
        },
        "id": "LiKSPHRzS-XJ",
        "outputId": "e23546b7-833d-4ae1-dfdb-dc1f045030e9"
      },
      "outputs": [
        {
          "output_type": "stream",
          "name": "stdout",
          "text": [
            "http://somewhere#SaraJones\n",
            "http://somewhere#JohnSmith\n",
            "(rdflib.term.URIRef('http://somewhere#SaraJones'),)\n",
            "(rdflib.term.URIRef('http://somewhere#JohnSmith'),)\n"
          ]
        }
      ],
      "source": [
        "for s, p, o in g.triples((None, RDF.type, ns.Person)):\n",
        "  print(s)"
      ]
    },
    {
      "cell_type": "markdown",
      "source": [
        "SPARQL"
      ],
      "metadata": {
        "id": "3EKzkVlat8Ji"
      }
    },
    {
      "cell_type": "code",
      "source": [
        "q2 = prepareQuery('''\n",
        "  SELECT \n",
        "    ?Subject\n",
        "  WHERE { \n",
        "    ?Subject rdf:type ns:Person. \n",
        "  }\n",
        "  ''',\n",
        "  initNs = { \"rdfs\":RDFS , \"ns\":ns}\n",
        ")\n",
        "for r in g.query(q2):\n",
        "  print(r)"
      ],
      "metadata": {
        "id": "tj16bIVut_iY"
      },
      "execution_count": null,
      "outputs": []
    },
    {
      "cell_type": "markdown",
      "metadata": {
        "id": "MXBqtBkJd22I"
      },
      "source": [
        "**TASK 7.3: List all individuals of \"Person\" and all their properties including their class with RDFLib and SPARQL**\n"
      ]
    },
    {
      "cell_type": "markdown",
      "source": [
        "RDFLib"
      ],
      "metadata": {
        "id": "AFZXBiuUuDTD"
      }
    },
    {
      "cell_type": "code",
      "execution_count": 26,
      "metadata": {
        "colab": {
          "base_uri": "https://localhost:8080/"
        },
        "id": "APQGv3NHX8Tf",
        "outputId": "a964dc26-867f-4b39-bd60-3f563ffbf309"
      },
      "outputs": [
        {
          "output_type": "stream",
          "name": "stdout",
          "text": [
            "http://www.w3.org/1999/02/22-rdf-syntax-ns#type http://somewhere#Person\n",
            "http://somewhere#http://www.w3.org/2001/vcard-rdf/3.0/Given Sara\n",
            "http://somewhere#http://www.w3.org/2001/vcard-rdf/3.0/FN Sara Jones\n",
            "http://somewhere#http://www.w3.org/2001/vcard-rdf/3.0/Family Jones\n",
            "http://www.w3.org/1999/02/22-rdf-syntax-ns#type http://somewhere#Person\n",
            "http://somewhere#http://www.w3.org/2001/vcard-rdf/3.0/Given John\n",
            "http://somewhere#http://www.w3.org/2001/vcard-rdf/3.0/FN John Smith\n",
            "http://somewhere#http://www.w3.org/2001/vcard-rdf/3.0/Family Smith\n"
          ]
        }
      ],
      "source": [
        "for s1, p1, o1 in g.triples((None, RDF.type, ns.Person)):\n",
        "  for s1,p2,o2 in g.triples((s1, None, None)):\n",
        "    print(p2,o2)"
      ]
    },
    {
      "cell_type": "markdown",
      "source": [
        "SPARQL"
      ],
      "metadata": {
        "id": "auM6hfVoualj"
      }
    },
    {
      "cell_type": "code",
      "source": [
        "q3 = prepareQuery('''\n",
        "  SELECT \n",
        "    ?Property ?Object \n",
        "  WHERE { \n",
        "    ?Subject rdf:type ?Person. \n",
        "    ?Subject ?Property ?Object.\n",
        "  }\n",
        "  ''',\n",
        "  initNs = { \"rdfs\":RDFS, \"ns\":ns}\n",
        ")\n",
        "for r in g.query(q3):\n",
        "  print(r)"
      ],
      "metadata": {
        "id": "CnCHIfIzueRm",
        "outputId": "ab7235ee-bb16-43da-a257-5b462f5d850e",
        "colab": {
          "base_uri": "https://localhost:8080/"
        }
      },
      "execution_count": 36,
      "outputs": [
        {
          "output_type": "stream",
          "name": "stdout",
          "text": [
            "(rdflib.term.URIRef('http://www.w3.org/1999/02/22-rdf-syntax-ns#type'), rdflib.term.URIRef('http://www.w3.org/2000/01/rdf-schema#Datatype'))\n",
            "(rdflib.term.URIRef('http://www.w3.org/2000/01/rdf-schema#range'), rdflib.term.URIRef('http://www.w3.org/2001/XMLSchema#string'))\n",
            "(rdflib.term.URIRef('http://www.w3.org/1999/02/22-rdf-syntax-ns#type'), rdflib.term.URIRef('http://www.w3.org/2000/01/rdf-schema#Datatype'))\n",
            "(rdflib.term.URIRef('http://www.w3.org/2000/01/rdf-schema#range'), rdflib.term.URIRef('http://www.w3.org/2001/XMLSchema#string'))\n",
            "(rdflib.term.URIRef('http://www.w3.org/1999/02/22-rdf-syntax-ns#type'), rdflib.term.URIRef('http://www.w3.org/2000/01/rdf-schema#Property'))\n",
            "(rdflib.term.URIRef('http://www.w3.org/2000/01/rdf-schema#range'), rdflib.term.URIRef('http://www.w3.org/2001/XMLSchema#string'))\n",
            "(rdflib.term.URIRef('http://www.w3.org/1999/02/22-rdf-syntax-ns#type'), rdflib.term.URIRef('http://www.w3.org/2000/01/rdf-schema#Class'))\n",
            "(rdflib.term.URIRef('http://www.w3.org/1999/02/22-rdf-syntax-ns#type'), rdflib.term.URIRef('http://www.w3.org/2000/01/rdf-schema#Class'))\n",
            "(rdflib.term.URIRef('http://www.w3.org/2000/01/rdf-schema#subClassOf'), rdflib.term.URIRef('http://somewhere#Person'))\n",
            "(rdflib.term.URIRef('http://www.w3.org/1999/02/22-rdf-syntax-ns#type'), rdflib.term.URIRef('http://www.w3.org/2000/01/rdf-schema#Class'))\n",
            "(rdflib.term.URIRef('http://www.w3.org/2000/01/rdf-schema#subClassOf'), rdflib.term.URIRef('http://somewhere#Researcher'))\n",
            "(rdflib.term.URIRef('http://www.w3.org/1999/02/22-rdf-syntax-ns#type'), rdflib.term.URIRef('http://www.w3.org/2000/01/rdf-schema#Class'))\n",
            "(rdflib.term.URIRef('http://www.w3.org/1999/02/22-rdf-syntax-ns#type'), rdflib.term.URIRef('http://somewhere#Person'))\n",
            "(rdflib.term.URIRef('http://somewhere#http://www.w3.org/2001/vcard-rdf/3.0/Given'), rdflib.term.Literal('Sara', datatype=rdflib.term.URIRef('http://www.w3.org/2001/XMLSchema#string')))\n",
            "(rdflib.term.URIRef('http://somewhere#http://www.w3.org/2001/vcard-rdf/3.0/FN'), rdflib.term.Literal('Sara Jones', datatype=rdflib.term.URIRef('http://www.w3.org/2001/XMLSchema#string')))\n",
            "(rdflib.term.URIRef('http://somewhere#http://www.w3.org/2001/vcard-rdf/3.0/Family'), rdflib.term.Literal('Jones', datatype=rdflib.term.URIRef('http://www.w3.org/2001/XMLSchema#string')))\n",
            "(rdflib.term.URIRef('http://www.w3.org/1999/02/22-rdf-syntax-ns#type'), rdflib.term.URIRef('http://somewhere#Person'))\n",
            "(rdflib.term.URIRef('http://somewhere#http://www.w3.org/2001/vcard-rdf/3.0/Given'), rdflib.term.Literal('John', datatype=rdflib.term.URIRef('http://www.w3.org/2001/XMLSchema#string')))\n",
            "(rdflib.term.URIRef('http://somewhere#http://www.w3.org/2001/vcard-rdf/3.0/FN'), rdflib.term.Literal('John Smith', datatype=rdflib.term.URIRef('http://www.w3.org/2001/XMLSchema#string')))\n",
            "(rdflib.term.URIRef('http://somewhere#http://www.w3.org/2001/vcard-rdf/3.0/Family'), rdflib.term.Literal('Smith', datatype=rdflib.term.URIRef('http://www.w3.org/2001/XMLSchema#string')))\n",
            "(rdflib.term.URIRef('http://www.w3.org/1999/02/22-rdf-syntax-ns#type'), rdflib.term.URIRef('http://somewhere#Researcher'))\n",
            "(rdflib.term.URIRef('http://somewhere#http://www.w3.org/2001/vcard-rdf/3.0/Given'), rdflib.term.Literal('Jane', datatype=rdflib.term.URIRef('http://www.w3.org/2001/XMLSchema#string')))\n",
            "(rdflib.term.URIRef('http://somewhere#http://www.w3.org/2001/vcard-rdf/3.0/FN'), rdflib.term.Literal('jane Smith', datatype=rdflib.term.URIRef('http://www.w3.org/2001/XMLSchema#string')))\n",
            "(rdflib.term.URIRef('http://somewhere#http://www.w3.org/2001/vcard-rdf/3.0/Family'), rdflib.term.Literal('Smith', datatype=rdflib.term.URIRef('http://www.w3.org/2001/XMLSchema#string')))\n",
            "(rdflib.term.URIRef('http://www.w3.org/1999/02/22-rdf-syntax-ns#type'), rdflib.term.URIRef('http://somewhere#University'))\n"
          ]
        }
      ]
    }
  ],
  "metadata": {
    "colab": {
      "collapsed_sections": [],
      "name": "Task07.ipynb",
      "provenance": []
    },
    "kernelspec": {
      "display_name": "Python 3 (ipykernel)",
      "language": "python",
      "name": "python3"
    },
    "language_info": {
      "codemirror_mode": {
        "name": "ipython",
        "version": 3
      },
      "file_extension": ".py",
      "mimetype": "text/x-python",
      "name": "python",
      "nbconvert_exporter": "python",
      "pygments_lexer": "ipython3",
      "version": "3.9.5"
    }
  },
  "nbformat": 4,
  "nbformat_minor": 0
}